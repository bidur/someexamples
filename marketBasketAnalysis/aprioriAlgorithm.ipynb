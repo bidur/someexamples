{
 "cells": [
  {
   "cell_type": "markdown",
   "id": "95aff0c2-6ae9-46b0-8eb0-4be2965fc3fb",
   "metadata": {},
   "source": [
    "# Market Basket Analysis with Apriori Algorithm"
   ]
  },
  {
   "cell_type": "markdown",
   "id": "44470074-bbd0-4e0f-a8b9-becdab52540b",
   "metadata": {},
   "source": [
    "### Support, Confidence, Lift\n",
    "- Support:  \n",
    "    - proportion of transactions in the dataset that contain both items in the rule.\n",
    "    - frequency of occurrence of a rule in the dataset. \n",
    "    - high support value indicates that the rule occurs frequently in the dataset.\n",
    "\n",
    "- Confidence: \n",
    "    - conditional probability that a transaction containing the antecedent (items on the left-hand side of the rule) also contains the consequent (items on the right-hand side of the rule). \n",
    "    - measures the strength of a rule. \n",
    "    - high confidence value indicates that the rule is more likely to be true.\n",
    "\n",
    "- Lift: \n",
    "    - ratio of observed support to expected support if the items in the rule were statistically independent. \n",
    "    - lift > 1 means rule occurs more frequently than would be expected,\n",
    "    - lift < 1 means rule occurs less frequently than expected. \n",
    "    - lift = 1 means antecedent and the consequent are independent of each other.\n"
   ]
  },
  {
   "cell_type": "code",
   "execution_count": 52,
   "id": "a740d1bd-4661-40ee-8da2-26cff94f49a6",
   "metadata": {},
   "outputs": [
    {
     "name": "stdout",
     "output_type": "stream",
     "text": [
      "Defaulting to user installation because normal site-packages is not writeable\n",
      "Requirement already satisfied: apyori in /home/bidur/.local/lib/python3.10/site-packages (1.1.2)\n"
     ]
    }
   ],
   "source": [
    "!pip3 install apyori"
   ]
  },
  {
   "cell_type": "code",
   "execution_count": null,
   "id": "67843252-be64-4e71-be97-b2f0dfdfaebf",
   "metadata": {},
   "outputs": [],
   "source": [
    "from apyori import apriori"
   ]
  },
  {
   "cell_type": "code",
   "execution_count": 40,
   "id": "8896d057-52c8-4db1-8faa-3f67fd241f78",
   "metadata": {},
   "outputs": [],
   "source": [
    "\n",
    "# A toy dataset with transactions \n",
    "dataset = [    \n",
    "    ['egg','bread', 'milk', 'cheese'],\n",
    "    ['bread', 'milk' , 'egg'],\n",
    "    ['beer','milk', 'cheese'],\n",
    "    ['beer','bread', 'butter'],\n",
    "    ['egg', 'butter', 'cheese'],\n",
    "    ['egg', 'bread', 'butter'],\n",
    "    ['beer', 'bread', 'milk', 'cheese'],\n",
    "    ['beer', 'bread', 'milk'],\n",
    "    ['egg', 'milk', 'cheese'],\n",
    "    ['egg', 'bread', 'butter'],\n",
    "    ['egg', 'butter', 'cheese'],\n",
    "    ['egg', 'bread', 'butter'],\n",
    "    ['beer', 'butter', 'cheese']\n",
    "]"
   ]
  },
  {
   "cell_type": "markdown",
   "id": "0f8dc530-f593-421c-b2ac-1782a4d667ba",
   "metadata": {},
   "source": [
    "## Lets check some rules\n",
    "- min_support: minimum frequency of an itemset to be considered frequent\n",
    "- min_confidence: minimum level of confidence for a rule to be considered significant. \n",
    "- min_lift : minimum level of lift for a rule to be considered interesting, \n",
    "- min_length: minimum length of the itemset to be considered in the analysis."
   ]
  },
  {
   "cell_type": "markdown",
   "id": "0230bba2-fb2c-4d48-8885-b8f3ab19dde8",
   "metadata": {},
   "source": [
    "#### In the example below, min_support= 0.5, min_confidence= 0.6, min_lift = 1, and min_length = 2. \n",
    "- it will show itemset that occur in at least 50% of the transactions, rules with at least 60% confidence, and rules with a lift of at least 1."
   ]
  },
  {
   "cell_type": "code",
   "execution_count": 49,
   "id": "3ef49a15-e234-45d9-a03a-b6d822217ab3",
   "metadata": {},
   "outputs": [
    {
     "name": "stdout",
     "output_type": "stream",
     "text": [
      "RelationRecord(items=frozenset({'bread'}), support=0.6153846153846154, ordered_statistics=[OrderedStatistic(items_base=frozenset(), items_add=frozenset({'bread'}), confidence=0.6153846153846154, lift=1.0)])\n",
      "RelationRecord(items=frozenset({'egg'}), support=0.6153846153846154, ordered_statistics=[OrderedStatistic(items_base=frozenset(), items_add=frozenset({'egg'}), confidence=0.6153846153846154, lift=1.0)])\n"
     ]
    }
   ],
   "source": [
    "rules = apriori(dataset, min_support=0.5, min_confidence=0.6, min_lift=1, min_length=2)\n",
    "\n",
    "for rule in rules:\n",
    "    print(rule)"
   ]
  },
  {
   "cell_type": "markdown",
   "id": "142d0da9-e43a-453a-b45a-019f27f069c5",
   "metadata": {},
   "source": [
    "In the first rule:\n",
    "-  rule is of item 'bread'.\n",
    "-  THe rule indicates: customers who buy 'bread' are also likely to buy 'bread' again. ( seems obvious!!)\n",
    "    -  support = 0.6154 i.e. 61.54% of the transactions  contain  'bread'\n",
    "    -  confidence = 0.6154 i.e. if a customer buys any items in the dataset, they are 61.54% likely to also buy 'bread'. \n",
    "    -  lift value = 1.0 indicates that the occurrence of 'bread' is not statistically dependent on any other item in the dataset."
   ]
  },
  {
   "cell_type": "markdown",
   "id": "62d4acff-132d-47a2-a591-24782e545657",
   "metadata": {},
   "source": [
    "## Filter rules related to 'beer' with  min_support=0.2, min_confidence=0.5"
   ]
  },
  {
   "cell_type": "code",
   "execution_count": 30,
   "id": "f23c8fd3-0c93-4479-9055-a4fc09482d7e",
   "metadata": {},
   "outputs": [
    {
     "name": "stdout",
     "output_type": "stream",
     "text": [
      "RelationRecord(items=frozenset({'bread', 'beer'}), support=0.23076923076923078, ordered_statistics=[OrderedStatistic(items_base=frozenset({'beer'}), items_add=frozenset({'bread'}), confidence=0.6, lift=0.9749999999999999)])\n",
      "RelationRecord(items=frozenset({'cheese', 'beer'}), support=0.23076923076923078, ordered_statistics=[OrderedStatistic(items_base=frozenset({'beer'}), items_add=frozenset({'cheese'}), confidence=0.6, lift=1.1142857142857143)])\n",
      "RelationRecord(items=frozenset({'milk', 'beer'}), support=0.23076923076923078, ordered_statistics=[OrderedStatistic(items_base=frozenset({'beer'}), items_add=frozenset({'milk'}), confidence=0.6, lift=1.2999999999999998), OrderedStatistic(items_base=frozenset({'milk'}), items_add=frozenset({'beer'}), confidence=0.5, lift=1.2999999999999998)])\n"
     ]
    }
   ],
   "source": [
    "# Run Apriori algorithm to find association rules\n",
    "rules = apriori(dataset, min_support=0.2, min_confidence=0.5)\n",
    "\n",
    "# Filter rules related to 'bread'\n",
    "beer_rules = [rule for rule in rules if 'beer' in rule.items]\n",
    "# Print the bread-related rules\n",
    "if not beer_rules:\n",
    "    print(\"No rules found for 'beer'\")\n",
    "else:\n",
    "    for rule in beer_rules:\n",
    "        print(rule)"
   ]
  },
  {
   "cell_type": "markdown",
   "id": "550ad472-be2e-4471-915f-a9163462ed2e",
   "metadata": {},
   "source": [
    "In the first rule:\n",
    "-  rule is of item 'bread' and 'beer'.\n",
    "-  The rule indicates: customers who buy 'beer' are 60% likely to also buy 'bread'. \n",
    "-  This rule has a lift value of 0.975, which is less than 1.0, indicating that the occurrence of 'bread' is negatively dependent on the occurrence of 'beer'.  \n",
    "- frozenset({'bread', 'beer'}) indicates the rule that involves both 'bread' and 'beer':\n",
    "    - support = 0.2308 i.e. 23.08% of the transactions in the dataset contain both items. \n",
    "    - The ordered_statistics field contains information about the rule itself, including the confidence and lift metrics."
   ]
  },
  {
   "cell_type": "markdown",
   "id": "f615bffa-86dc-4b77-8901-8f6c654d831d",
   "metadata": {},
   "source": []
  },
  {
   "cell_type": "markdown",
   "id": "6185b4a0-02f9-4cbb-9b6a-70d40d0fab30",
   "metadata": {},
   "source": [
    "## Filter rules related to 'bread' with  min_support=0.2, min_confidence=0.5, min_lift=1.2"
   ]
  },
  {
   "cell_type": "code",
   "execution_count": 33,
   "id": "437c75d5-5fe8-4efb-8d10-3961efb48184",
   "metadata": {},
   "outputs": [
    {
     "name": "stdout",
     "output_type": "stream",
     "text": [
      "RelationRecord(items=frozenset({'butter', 'egg', 'bread'}), support=0.23076923076923078, ordered_statistics=[OrderedStatistic(items_base=frozenset({'butter', 'bread'}), items_add=frozenset({'egg'}), confidence=0.75, lift=1.21875), OrderedStatistic(items_base=frozenset({'egg', 'bread'}), items_add=frozenset({'butter'}), confidence=0.6, lift=1.1142857142857143)])\n"
     ]
    }
   ],
   "source": [
    "# Run Apriori algorithm to find association rules\n",
    "rules = apriori(dataset, min_support=0.2, min_confidence=0.5, min_lift=1.1)\n",
    "\n",
    "# Filter rules related to 'bread'\n",
    "bread_rules = [rule for rule in rules if 'bread' in rule.items]\n",
    "# Print the bread-related rules\n",
    "if not bread_rules:\n",
    "    print(\"No rules found for 'bread'\")\n",
    "else:\n",
    "    for rule in bread_rules:\n",
    "        print(rule)"
   ]
  },
  {
   "cell_type": "code",
   "execution_count": 34,
   "id": "cabe2f3d-08aa-4639-b1fa-9e1ce59034e4",
   "metadata": {},
   "outputs": [],
   "source": [
    "### Change the lift to  min_lift=1 and see"
   ]
  },
  {
   "cell_type": "code",
   "execution_count": 35,
   "id": "857d1ae6-2779-4465-9367-1d52153908e0",
   "metadata": {},
   "outputs": [
    {
     "name": "stdout",
     "output_type": "stream",
     "text": [
      "RelationRecord(items=frozenset({'bread'}), support=0.6153846153846154, ordered_statistics=[OrderedStatistic(items_base=frozenset(), items_add=frozenset({'bread'}), confidence=0.6153846153846154, lift=1.0)])\n",
      "RelationRecord(items=frozenset({'egg', 'bread'}), support=0.38461538461538464, ordered_statistics=[OrderedStatistic(items_base=frozenset({'bread'}), items_add=frozenset({'egg'}), confidence=0.625, lift=1.015625), OrderedStatistic(items_base=frozenset({'egg'}), items_add=frozenset({'bread'}), confidence=0.625, lift=1.015625)])\n",
      "RelationRecord(items=frozenset({'bread', 'milk'}), support=0.3076923076923077, ordered_statistics=[OrderedStatistic(items_base=frozenset({'bread'}), items_add=frozenset({'milk'}), confidence=0.5, lift=1.0833333333333333), OrderedStatistic(items_base=frozenset({'milk'}), items_add=frozenset({'bread'}), confidence=0.6666666666666666, lift=1.0833333333333333)])\n",
      "RelationRecord(items=frozenset({'butter', 'egg', 'bread'}), support=0.23076923076923078, ordered_statistics=[OrderedStatistic(items_base=frozenset({'butter', 'bread'}), items_add=frozenset({'egg'}), confidence=0.75, lift=1.21875), OrderedStatistic(items_base=frozenset({'egg', 'bread'}), items_add=frozenset({'butter'}), confidence=0.6, lift=1.1142857142857143)])\n"
     ]
    }
   ],
   "source": [
    "# Run Apriori algorithm to find association rules\n",
    "rules = apriori(dataset, min_support=0.2, min_confidence=0.5, min_lift=1)\n",
    "\n",
    "# Filter rules related to 'bread'\n",
    "bread_rules = [rule for rule in rules if 'bread' in rule.items]\n",
    "# Print the bread-related rules\n",
    "if not bread_rules:\n",
    "    print(\"No rules found for 'bread'\")\n",
    "else:\n",
    "    for rule in bread_rules:\n",
    "        print(rule)"
   ]
  },
  {
   "cell_type": "code",
   "execution_count": null,
   "id": "f3f7f6db-b72d-40e6-92f7-64a4a690a1a8",
   "metadata": {},
   "outputs": [],
   "source": []
  },
  {
   "cell_type": "markdown",
   "id": "6c3e422b-c1e7-48a0-8485-210f3185e0fc",
   "metadata": {},
   "source": [
    "## Filter rules related to 'cheese' and 'milk' with  min_support=0.2, min_confidence=0.2, min_lift=1.2"
   ]
  },
  {
   "cell_type": "code",
   "execution_count": 27,
   "id": "be7e7a74-e57f-47b5-877e-65efa0570783",
   "metadata": {},
   "outputs": [
    {
     "name": "stdout",
     "output_type": "stream",
     "text": [
      "RelationRecord(items=frozenset({'cheese', 'milk'}), support=0.3076923076923077, ordered_statistics=[OrderedStatistic(items_base=frozenset({'cheese'}), items_add=frozenset({'milk'}), confidence=0.5714285714285715, lift=1.2380952380952381), OrderedStatistic(items_base=frozenset({'milk'}), items_add=frozenset({'cheese'}), confidence=0.6666666666666666, lift=1.2380952380952381)])\n"
     ]
    }
   ],
   "source": [
    "# Run Apriori algorithm to find association rules\n",
    "rules = apriori(dataset, min_support=0.2, min_confidence=0.2, min_lift=1.2)\n",
    "\n",
    "\n",
    "# Filter rules related to 'cheese' and 'milk'\n",
    "cheese_milk_rules = [rule for rule in rules if ('cheese' in rule.items) and ('milk' in rule.items)]\n",
    "\n",
    "# Print the cheese-milk rules\n",
    "for rule in cheese_milk_rules:\n",
    "    print(rule)"
   ]
  },
  {
   "cell_type": "code",
   "execution_count": null,
   "id": "3d0fd4ed-5693-4094-97d1-3cbf7eff1e8c",
   "metadata": {},
   "outputs": [],
   "source": []
  },
  {
   "cell_type": "markdown",
   "id": "caf3fda6-5835-4890-9754-7d5ed070b0ee",
   "metadata": {},
   "source": [
    "# TO DO\n",
    "1. Find the related rules to 'beer' and 'egg' with min_support=0.2, min_confidence=0.5, min_lift=1.2 ( also, explain about the result you get)\n",
    "2. Check rules related to 'bread', apply min_support=0.5, min_confidence=0.7, min_lift=1.2 and see\n",
    "    If no rules are obtained then add some data to get some rules. THen explain about it."
   ]
  },
  {
   "cell_type": "markdown",
   "id": "ebc57aea-16fb-4eb9-a7af-dd422e4cfb3d",
   "metadata": {},
   "source": [
    "References:\n",
    "\n",
    "Liu, B., Hsu, W., & Ma, Y. (1999). Pruning and dynamic ordering of acquired association rules. In Proceedings of the 5th ACM SIGKDD International Conference on Knowledge Discovery and Data Mining (KDD) (pp. 454-458).\n",
    "Tan, P. N., Steinbach, M., & Kumar, V. (2006). Introduction to data mining. Pearson Education.\n",
    "https://www.kaggle.com/code/yugagrawal95/market-basket-analysis-apriori-in-python\n",
    "https://roshnirathore11-12.medium.com/market-basket-analysis-using-apriori-algorithm-in-python-874332318cd9\n",
    "https://github.com/ymoch/apyori"
   ]
  },
  {
   "cell_type": "code",
   "execution_count": null,
   "id": "757156a4-08c1-4873-b0ef-a6403cb0a038",
   "metadata": {},
   "outputs": [],
   "source": []
  }
 ],
 "metadata": {
  "kernelspec": {
   "display_name": "Python 3 (ipykernel)",
   "language": "python",
   "name": "python3"
  },
  "language_info": {
   "codemirror_mode": {
    "name": "ipython",
    "version": 3
   },
   "file_extension": ".py",
   "mimetype": "text/x-python",
   "name": "python",
   "nbconvert_exporter": "python",
   "pygments_lexer": "ipython3",
   "version": "3.10.6"
  }
 },
 "nbformat": 4,
 "nbformat_minor": 5
}
