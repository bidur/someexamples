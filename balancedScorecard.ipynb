{
 "cells": [
  {
   "cell_type": "markdown",
   "id": "ea533748-d426-41e3-ab3c-865c78c711e6",
   "metadata": {},
   "source": [
    "# Balanced scorecard\n",
    "### It is  a strategic planning and management tool used to align business activities with vision and strategy of an organization."
   ]
  },
  {
   "cell_type": "markdown",
   "id": "42e24974-d0d3-46be-bfd9-06fae44d9ed8",
   "metadata": {},
   "source": [
    "- Define the key performance indicators (KPIs) for each perspective of the balanced scorecard. The four perspectives are financial, customer, internal processes, and learning and growth.\n",
    "\n",
    "- Define the targets or goals for each KPI.\n",
    "\n",
    "- Calculate the actual values for each KPI.\n",
    "\n",
    "- Calculate the performance for each KPI by comparing the actual value to the target value.\n",
    "\n",
    "- Aggregate the KPI performance scores for each perspective to get an overall balanced scorecard score."
   ]
  },
  {
   "cell_type": "code",
   "execution_count": 7,
   "id": "55c1a498-af13-491e-b30e-35c4d2286ed1",
   "metadata": {},
   "outputs": [],
   "source": [
    "# define KPIs for each prespective and thier targets\n",
    "financial_kpi = {\n",
    "    'revenue': 1000000,\n",
    "    'costs': 750000,\n",
    "    'profit': 250000\n",
    "}\n",
    "\n",
    "customer_kpi = {\n",
    "    'customer satisfaction': 0.8,\n",
    "    'customer retention': 0.9,\n",
    "    'customer acquisition': 0.1\n",
    "}\n",
    "\n",
    "process_kpi = {\n",
    "    'process efficiency': 0.7,\n",
    "    'process quality': 0.8,\n",
    "    'process innovation': 0.2\n",
    "}\n",
    "\n",
    "learning_kpi = {\n",
    "    'employee satisfaction': 0.8,\n",
    "    'employee retention': 0.9,\n",
    "    'employee training': 0.7\n",
    "}\n",
    "\n",
    "# calculate the performance for each KPI \n",
    "financial_score = sum([(financial_kpi['revenue']/financial_kpi['costs'] - 1)*0.4,\n",
    "                       (financial_kpi['profit']/financial_kpi['revenue'])*0.3,\n",
    "                       (1 - financial_kpi['costs']/financial_kpi['revenue'])*0.3])\n",
    "\n",
    "customer_score = sum([customer_kpi['customer satisfaction']*0.4,\n",
    "                      customer_kpi['customer retention']*0.3,\n",
    "                      customer_kpi['customer acquisition']*0.3])\n",
    "\n",
    "process_score = sum([process_kpi['process efficiency']*0.4,\n",
    "                     process_kpi['process quality']*0.3,\n",
    "                     process_kpi['process innovation']*0.3])\n",
    "\n",
    "learning_score = sum([learning_kpi['employee satisfaction']*0.4,\n",
    "                      learning_kpi['employee retention']*0.3,\n",
    "                      learning_kpi['employee training']*0.3])\n",
    "\n",
    "# ove: rall balanced scorecard score: aggregate the KPI performance scores of all\n",
    "# Here, respective weights below denotes their relative importance of each perspective for the organization.\n",
    "balanced_scorecard_score = sum([financial_score*0.3,\n",
    "                                customer_score*0.4,\n",
    "                                process_score*0.2,\n",
    "                                learning_score*0.1])\n"
   ]
  },
  {
   "cell_type": "code",
   "execution_count": 6,
   "id": "4ce0ae6f-936d-4c6c-9079-6f340ed74a5a",
   "metadata": {},
   "outputs": [
    {
     "data": {
      "text/plain": [
       "0.5290000000000001"
      ]
     },
     "execution_count": 6,
     "metadata": {},
     "output_type": "execute_result"
    }
   ],
   "source": [
    "balanced_scorecard_score"
   ]
  },
  {
   "cell_type": "markdown",
   "id": "2fc7f8d9-1e46-49c8-849c-3eaaa7f7056c",
   "metadata": {},
   "source": [
    "References:\n",
    "    \n",
    "Kaplan, R. S., & Norton, D. P. (1996). The balanced scorecard: Translating strategy into action. Harvard Business Press.   \n",
    "\n",
    "Ilin, V., & Novikov, A. (2017). Development of a balanced scorecard for evaluating the effectiveness of the university. International Journal of Environmental and Science Education, 12(5), 885-898.\n",
    "\n",
    "https://towardsdatascience.com/a-product-managers-guide-to-machine-learning-balanced-scorecard-344cd37ab4a7"
   ]
  },
  {
   "cell_type": "code",
   "execution_count": null,
   "id": "8d7f6382-918c-4050-81b7-53ae35853986",
   "metadata": {},
   "outputs": [],
   "source": []
  },
  {
   "cell_type": "code",
   "execution_count": null,
   "id": "8adb9c4a-d479-4360-8d42-4bf6df978144",
   "metadata": {},
   "outputs": [],
   "source": []
  }
 ],
 "metadata": {
  "kernelspec": {
   "display_name": "Python 3 (ipykernel)",
   "language": "python",
   "name": "python3"
  },
  "language_info": {
   "codemirror_mode": {
    "name": "ipython",
    "version": 3
   },
   "file_extension": ".py",
   "mimetype": "text/x-python",
   "name": "python",
   "nbconvert_exporter": "python",
   "pygments_lexer": "ipython3",
   "version": "3.10.6"
  }
 },
 "nbformat": 4,
 "nbformat_minor": 5
}
